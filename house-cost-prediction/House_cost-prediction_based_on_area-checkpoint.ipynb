{
 "cells": [
  {
   "cell_type": "code",
   "execution_count": 1,
   "id": "29d2c674",
   "metadata": {},
   "outputs": [],
   "source": [
    "from sklearn import linear_model\n",
    "import pandas as pd\n",
    "import numpy as np\n",
    "import matplotlib.pyplot as plt\n",
    "%matplotlib inline"
   ]
  },
  {
   "cell_type": "code",
   "execution_count": 2,
   "id": "dcd0c3ec",
   "metadata": {},
   "outputs": [],
   "source": [
    "df=pd.read_csv('data.csv')"
   ]
  },
  {
   "cell_type": "code",
   "execution_count": 3,
   "id": "cf410f13",
   "metadata": {},
   "outputs": [
    {
     "data": {
      "text/html": [
       "<div>\n",
       "<style scoped>\n",
       "    .dataframe tbody tr th:only-of-type {\n",
       "        vertical-align: middle;\n",
       "    }\n",
       "\n",
       "    .dataframe tbody tr th {\n",
       "        vertical-align: top;\n",
       "    }\n",
       "\n",
       "    .dataframe thead th {\n",
       "        text-align: right;\n",
       "    }\n",
       "</style>\n",
       "<table border=\"1\" class=\"dataframe\">\n",
       "  <thead>\n",
       "    <tr style=\"text-align: right;\">\n",
       "      <th></th>\n",
       "      <th>Area</th>\n",
       "      <th>price</th>\n",
       "    </tr>\n",
       "  </thead>\n",
       "  <tbody>\n",
       "    <tr>\n",
       "      <th>0</th>\n",
       "      <td>2600</td>\n",
       "      <td>550000</td>\n",
       "    </tr>\n",
       "    <tr>\n",
       "      <th>1</th>\n",
       "      <td>3000</td>\n",
       "      <td>565000</td>\n",
       "    </tr>\n",
       "    <tr>\n",
       "      <th>2</th>\n",
       "      <td>3200</td>\n",
       "      <td>610000</td>\n",
       "    </tr>\n",
       "    <tr>\n",
       "      <th>3</th>\n",
       "      <td>3600</td>\n",
       "      <td>680000</td>\n",
       "    </tr>\n",
       "    <tr>\n",
       "      <th>4</th>\n",
       "      <td>4000</td>\n",
       "      <td>725000</td>\n",
       "    </tr>\n",
       "  </tbody>\n",
       "</table>\n",
       "</div>"
      ],
      "text/plain": [
       "   Area   price\n",
       "0  2600  550000\n",
       "1  3000  565000\n",
       "2  3200  610000\n",
       "3  3600  680000\n",
       "4  4000  725000"
      ]
     },
     "execution_count": 3,
     "metadata": {},
     "output_type": "execute_result"
    }
   ],
   "source": [
    "df"
   ]
  },
  {
   "cell_type": "code",
   "execution_count": 4,
   "id": "76dc4497",
   "metadata": {},
   "outputs": [
    {
     "data": {
      "text/plain": [
       "<matplotlib.collections.PathCollection at 0x1b2b08edc10>"
      ]
     },
     "execution_count": 4,
     "metadata": {},
     "output_type": "execute_result"
    },
    {
     "data": {
      "image/png": "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",
      "text/plain": [
       "<Figure size 640x480 with 1 Axes>"
      ]
     },
     "metadata": {},
     "output_type": "display_data"
    }
   ],
   "source": [
    "plt.xlabel(\"Area\"); plt.ylabel(\"price\")\n",
    "plt.scatter(df.Area,\n",
    "df.price, color='green', marker=\"+\")"
   ]
  },
  {
   "cell_type": "code",
   "execution_count": 5,
   "id": "3bb32bac",
   "metadata": {},
   "outputs": [
    {
     "data": {
      "text/html": [
       "<style>#sk-container-id-1 {color: black;background-color: white;}#sk-container-id-1 pre{padding: 0;}#sk-container-id-1 div.sk-toggleable {background-color: white;}#sk-container-id-1 label.sk-toggleable__label {cursor: pointer;display: block;width: 100%;margin-bottom: 0;padding: 0.3em;box-sizing: border-box;text-align: center;}#sk-container-id-1 label.sk-toggleable__label-arrow:before {content: \"▸\";float: left;margin-right: 0.25em;color: #696969;}#sk-container-id-1 label.sk-toggleable__label-arrow:hover:before {color: black;}#sk-container-id-1 div.sk-estimator:hover label.sk-toggleable__label-arrow:before {color: black;}#sk-container-id-1 div.sk-toggleable__content {max-height: 0;max-width: 0;overflow: hidden;text-align: left;background-color: #f0f8ff;}#sk-container-id-1 div.sk-toggleable__content pre {margin: 0.2em;color: black;border-radius: 0.25em;background-color: #f0f8ff;}#sk-container-id-1 input.sk-toggleable__control:checked~div.sk-toggleable__content {max-height: 200px;max-width: 100%;overflow: auto;}#sk-container-id-1 input.sk-toggleable__control:checked~label.sk-toggleable__label-arrow:before {content: \"▾\";}#sk-container-id-1 div.sk-estimator input.sk-toggleable__control:checked~label.sk-toggleable__label {background-color: #d4ebff;}#sk-container-id-1 div.sk-label input.sk-toggleable__control:checked~label.sk-toggleable__label {background-color: #d4ebff;}#sk-container-id-1 input.sk-hidden--visually {border: 0;clip: rect(1px 1px 1px 1px);clip: rect(1px, 1px, 1px, 1px);height: 1px;margin: -1px;overflow: hidden;padding: 0;position: absolute;width: 1px;}#sk-container-id-1 div.sk-estimator {font-family: monospace;background-color: #f0f8ff;border: 1px dotted black;border-radius: 0.25em;box-sizing: border-box;margin-bottom: 0.5em;}#sk-container-id-1 div.sk-estimator:hover {background-color: #d4ebff;}#sk-container-id-1 div.sk-parallel-item::after {content: \"\";width: 100%;border-bottom: 1px solid gray;flex-grow: 1;}#sk-container-id-1 div.sk-label:hover label.sk-toggleable__label {background-color: #d4ebff;}#sk-container-id-1 div.sk-serial::before {content: \"\";position: absolute;border-left: 1px solid gray;box-sizing: border-box;top: 0;bottom: 0;left: 50%;z-index: 0;}#sk-container-id-1 div.sk-serial {display: flex;flex-direction: column;align-items: center;background-color: white;padding-right: 0.2em;padding-left: 0.2em;position: relative;}#sk-container-id-1 div.sk-item {position: relative;z-index: 1;}#sk-container-id-1 div.sk-parallel {display: flex;align-items: stretch;justify-content: center;background-color: white;position: relative;}#sk-container-id-1 div.sk-item::before, #sk-container-id-1 div.sk-parallel-item::before {content: \"\";position: absolute;border-left: 1px solid gray;box-sizing: border-box;top: 0;bottom: 0;left: 50%;z-index: -1;}#sk-container-id-1 div.sk-parallel-item {display: flex;flex-direction: column;z-index: 1;position: relative;background-color: white;}#sk-container-id-1 div.sk-parallel-item:first-child::after {align-self: flex-end;width: 50%;}#sk-container-id-1 div.sk-parallel-item:last-child::after {align-self: flex-start;width: 50%;}#sk-container-id-1 div.sk-parallel-item:only-child::after {width: 0;}#sk-container-id-1 div.sk-dashed-wrapped {border: 1px dashed gray;margin: 0 0.4em 0.5em 0.4em;box-sizing: border-box;padding-bottom: 0.4em;background-color: white;}#sk-container-id-1 div.sk-label label {font-family: monospace;font-weight: bold;display: inline-block;line-height: 1.2em;}#sk-container-id-1 div.sk-label-container {text-align: center;}#sk-container-id-1 div.sk-container {/* jupyter's `normalize.less` sets `[hidden] { display: none; }` but bootstrap.min.css set `[hidden] { display: none !important; }` so we also need the `!important` here to be able to override the default hidden behavior on the sphinx rendered scikit-learn.org. See: https://github.com/scikit-learn/scikit-learn/issues/21755 */display: inline-block !important;position: relative;}#sk-container-id-1 div.sk-text-repr-fallback {display: none;}</style><div id=\"sk-container-id-1\" class=\"sk-top-container\"><div class=\"sk-text-repr-fallback\"><pre>LinearRegression()</pre><b>In a Jupyter environment, please rerun this cell to show the HTML representation or trust the notebook. <br />On GitHub, the HTML representation is unable to render, please try loading this page with nbviewer.org.</b></div><div class=\"sk-container\" hidden><div class=\"sk-item\"><div class=\"sk-estimator sk-toggleable\"><input class=\"sk-toggleable__control sk-hidden--visually\" id=\"sk-estimator-id-1\" type=\"checkbox\" checked><label for=\"sk-estimator-id-1\" class=\"sk-toggleable__label sk-toggleable__label-arrow\">LinearRegression</label><div class=\"sk-toggleable__content\"><pre>LinearRegression()</pre></div></div></div></div></div>"
      ],
      "text/plain": [
       "LinearRegression()"
      ]
     },
     "execution_count": 5,
     "metadata": {},
     "output_type": "execute_result"
    }
   ],
   "source": [
    "reg=linear_model.LinearRegression()\n",
    "reg.fit(df[['Area']],df.price)"
   ]
  },
  {
   "cell_type": "code",
   "execution_count": 6,
   "id": "f087c5dc",
   "metadata": {},
   "outputs": [
    {
     "name": "stdout",
     "output_type": "stream",
     "text": [
      "Enter the 3300\n",
      "The predicted cost is: 628715.7534246575\n"
     ]
    },
    {
     "name": "stderr",
     "output_type": "stream",
     ]
    }
   ],
   "source": [
    "user_area=int(input(\"Enter the \"))\n",
    "ans=reg.predict([[user_area]])\n",
    "print(\"The predicted cost is:\",ans[0])"
   ]
  },
  {
   "cell_type": "code",
   "execution_count": null,
   "id": "c6b840c2",
   "metadata": {},
   "outputs": [],
   "source": []
  }
 ],
 "metadata": {
  "kernelspec": {
   "display_name": "Python 3 (ipykernel)",
   "language": "python",
   "name": "python3"
  },
  "language_info": {
   "codemirror_mode": {
    "name": "ipython",
    "version": 3
   },
   "file_extension": ".py",
   "mimetype": "text/x-python",
   "name": "python",
   "nbconvert_exporter": "python",
   "pygments_lexer": "ipython3",
   "version": "3.11.1"
  }
 },
 "nbformat": 4,
 "nbformat_minor": 5
}
