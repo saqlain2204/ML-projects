{
 "cells": [
  {
   "cell_type": "code",
   "execution_count": null,
   "id": "53a00dc4",
   "metadata": {},
   "outputs": [],
   "source": [
    "import numpy as np\n",
    "import pandas as pd\n",
    "from word2number import w2n\n",
    "from sklearn import linear_model"
   ]
  },
  {
   "cell_type": "code",
   "execution_count": null,
   "id": "db62a8e4",
   "metadata": {},
   "outputs": [],
   "source": [
    "#import pandas as pd\n",
    "\n",
    "#if not using csv file then use the below dictionary and later convert it into dataset and make the necessary changes in the further lines of the code i.e line(27,28,29).\n",
    "\n",
    "# data = {\n",
    "#     'experience': ['', '', 'five', 'two', 'seven', 'three', 'ten', 'eleven'],\n",
    "#     'test_score(out of 10)': [8, 8, 6, 10, 9, 7, None, 7],\n",
    "#     'interview_score(out of 10)': [9, 6, 7, 10, 6, 10, 7, 8],\n",
    "#     'salary($)': [50000, 45000, 60000, 65000, 70000, 62000, 72000, 80000]\n",
    "# }\n",
    "\n",
    "# df = pd.DataFrame(data)\n",
    "\n"
   ]
  },
  {
   "cell_type": "code",
   "execution_count": null,
   "id": "3a39904f",
   "metadata": {},
   "outputs": [],
   "source": [
    "#df.to_csv(\"data.csv\")\n",
    "df=pd.read_csv(\"data.csv\")"
   ]
  },
  {
   "cell_type": "code",
   "execution_count": null,
   "id": "7b4bdf64",
   "metadata": {},
   "outputs": [],
   "source": [
    "df= df.rename(columns={\n",
    "    'test_score(out of 10)': 'test_score',\n",
    "    'interview_score(out of 10)': 'interview_score',\n",
    "    'salary($)': 'salary'\n",
    "})"
   ]
  },
  {
   "cell_type": "code",
   "execution_count": null,
   "id": "480d3b46",
   "metadata": {},
   "outputs": [],
   "source": [
    "df=df.drop(\"Unnamed: 0\",axis=1)\n",
    "df"
   ]
  },
  {
   "cell_type": "code",
   "execution_count": null,
   "id": "c0918e43",
   "metadata": {},
   "outputs": [],
   "source": [
    "df.experience.isna"
   ]
  },
  {
   "cell_type": "code",
   "execution_count": null,
   "id": "a74d2c67",
   "metadata": {},
   "outputs": [],
   "source": [
    "df.experience.isnull"
   ]
  },
  {
   "cell_type": "code",
   "execution_count": null,
   "id": "dbd1126f",
   "metadata": {},
   "outputs": [],
   "source": [
    "df3=df\n",
    "#df3['experience'] = df3['experience'].apply(lambda x: w2n.word_to_num(x) if isinstance(x, str) and x!='' else x)"
   ]
  },
  {
   "cell_type": "code",
   "execution_count": null,
   "id": "99165f44",
   "metadata": {},
   "outputs": [],
   "source": [
    "df3['experience']=df3.experience.fillna(0)"
   ]
  },
  {
   "cell_type": "code",
   "execution_count": null,
   "id": "eb990ef8",
   "metadata": {},
   "outputs": [],
   "source": [
    "#df3['experience'] = df3['experience'].apply(lambda x: 0 if x=='' else x)"
   ]
  },
  {
   "cell_type": "code",
   "execution_count": null,
   "id": "f99ce7fb",
   "metadata": {},
   "outputs": [],
   "source": [
    "df3"
   ]
  },
  {
   "cell_type": "code",
   "execution_count": null,
   "id": "ef3e3f44",
   "metadata": {},
   "outputs": [],
   "source": [
    "df3.test_score.isnull"
   ]
  },
  {
   "cell_type": "code",
   "execution_count": null,
   "id": "5ed9f578",
   "metadata": {},
   "outputs": [],
   "source": [
    "import math\n",
    "median=math.floor(df3.test_score.median())\n",
    "df3['test_score']=df3.test_score.fillna(median)"
   ]
  },
  {
   "cell_type": "code",
   "execution_count": null,
   "id": "9c7f8422",
   "metadata": {},
   "outputs": [],
   "source": [
    "df3"
   ]
  },
  {
   "cell_type": "code",
   "execution_count": null,
   "id": "a5b9e0f3",
   "metadata": {},
   "outputs": [],
   "source": [
    "reg=linear_model.LinearRegression()"
   ]
  },
  {
   "cell_type": "code",
   "execution_count": null,
   "id": "173eb592",
   "metadata": {},
   "outputs": [],
   "source": [
    "reg.fit(df3[['experience','test_score','interview_score']],df3.salary)"
   ]
  },
  {
   "cell_type": "code",
   "execution_count": null,
   "id": "18127859",
   "metadata": {},
   "outputs": [],
   "source": [
    "experience=int(input(\"Enter Experience \"))\n",
    "test_score=int(input(\"Enter test score \"))\n",
    "interview_score=int(input(\"Enter interview score \"))"
   ]
  },
  {
   "cell_type": "code",
   "execution_count": null,
   "id": "4cf0400d",
   "metadata": {},
   "outputs": [],
   "source": [
    "ans=reg.predict([[experience,test_score,interview_score]])[0]"
   ]
  },
  {
   "cell_type": "code",
   "execution_count": null,
   "id": "8aad8664",
   "metadata": {},
   "outputs": [],
   "source": [
    "print(\"The predicted salary of the candidate is\",ans)"
   ]
  },
  {
   "cell_type": "code",
   "execution_count": null,
   "id": "c314182a",
   "metadata": {},
   "outputs": [],
   "source": []
  }
 ],
 "metadata": {
  "kernelspec": {
   "display_name": "Python 3 (ipykernel)",
   "language": "python",
   "name": "python3"
  },
  "language_info": {
   "codemirror_mode": {
    "name": "ipython",
    "version": 3
   },
   "file_extension": ".py",
   "mimetype": "text/x-python",
   "name": "python",
   "nbconvert_exporter": "python",
   "pygments_lexer": "ipython3",
   "version": "3.11.1"
  }
 },
 "nbformat": 4,
 "nbformat_minor": 5
}
